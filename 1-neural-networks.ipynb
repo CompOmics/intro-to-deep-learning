{
 "cells": [
  {
   "cell_type": "markdown",
   "id": "558c95b5",
   "metadata": {},
   "source": [
    "# 1 Neural networks with PyTorch"
   ]
  },
  {
   "cell_type": "markdown",
   "id": "39931c31",
   "metadata": {},
   "source": [
    "PyTorch is compiled in different versions for different systems. When working locally, check out the PyTorch [Get Started Guide](https://pytorch.org/get-started/locally/) to install PyTorch with the appropriate CUDA version for your system."
   ]
  },
  {
   "cell_type": "code",
   "execution_count": null,
   "id": "ec811ed9",
   "metadata": {},
   "outputs": [],
   "source": [
    "import torch\n",
    "\n",
    "_ = torch.manual_seed(42)"
   ]
  },
  {
   "cell_type": "markdown",
   "id": "9e64d07f",
   "metadata": {},
   "source": [
    "## 1.1 Working with tensors"
   ]
  },
  {
   "cell_type": "markdown",
   "id": "c7552f9d",
   "metadata": {},
   "source": [
    "In their most basic form, tensors are just multi-dimensional arrays."
   ]
  },
  {
   "cell_type": "code",
   "execution_count": null,
   "id": "44b86afb",
   "metadata": {},
   "outputs": [],
   "source": [
    "t = torch.tensor([1, 2, 3])"
   ]
  },
  {
   "cell_type": "markdown",
   "id": "6a434a2f",
   "metadata": {},
   "source": [
    "Tensors can be stored on different devices, such as CPU or GPU. PyTorch provides a simple way to move tensors between devices using the `.to()` method. This is useful for leveraging the computational power of GPUs for deep learning tasks."
   ]
  },
  {
   "cell_type": "code",
   "execution_count": null,
   "id": "bc2ecf63",
   "metadata": {},
   "outputs": [],
   "source": [
    "t.device"
   ]
  },
  {
   "cell_type": "code",
   "execution_count": null,
   "id": "a7a72008",
   "metadata": {},
   "outputs": [],
   "source": [
    "t.to(device='cuda:0')"
   ]
  },
  {
   "cell_type": "markdown",
   "id": "ede39c2d",
   "metadata": {},
   "source": [
    "As in Numpy, tensors support many data types, including `float`, `int`, and `bool`. A full list of data types can be found in the [PyTorch documentation](https://pytorch.org/docs/stable/tensors.html#torch-tensor-dtypes). When working with floats, 32-bit floats are most common.\n",
    "\n",
    "To save memory, 16-bit floats can also be used, in what is sometimes termed \"lower precision\" or \"mixed precision\". This is especially useful when training large models on GPUs, as it can significantly reduce memory usage and speed up training. \n",
    "\n",
    "While less common in deep learning tasks, 64-bit floats can also be used for high-precision calculations."
   ]
  },
  {
   "cell_type": "code",
   "execution_count": null,
   "id": "2a5da83a",
   "metadata": {},
   "outputs": [],
   "source": [
    "t.dtype"
   ]
  },
  {
   "cell_type": "code",
   "execution_count": null,
   "id": "b9d79ce8",
   "metadata": {},
   "outputs": [],
   "source": [
    "t.to(dtype=torch.float32)"
   ]
  },
  {
   "cell_type": "markdown",
   "id": "0d12967e",
   "metadata": {},
   "source": [
    "What really sets apart tensors from Numpy arrays is that they can automatically record every operation performed on them. In other words, they build a *computation graph*, which is a directed acyclic graph tracing how each tensor value was computed. This graph is what enables *automatic differentiation*, the core mechanism behind *back-propagation* in neural-network training.\n",
    "\n",
    "Every time you combine or transform tensors, PyTorch notes that operation and links the inputs and outputs in its graph. Once you’ve computed some final output (for instance, a loss), you call `.backward()`, and PyTorch traverses the graph in reverse to compute gradients - the derivatives of that output with respect to each tensor marked for tracking. Those gradients tell you how to adjust your model’s parameters to reduce the loss. Without a recorded graph, you’d have to derive and implement each derivative by hand.\n",
    "\n",
    "Back propagation will be covered later in this tutorial. For now, it is important to know that:\n",
    "\n",
    "1. Tensors can keep track of all operations that lead to the resulting values.\n",
    "2. This graph is used to compute the gradients of the loss function with respect to the model parameters.\n",
    "3. Gradients are essentially a combination of derivatives, which are used to update the model parameters during training.\n",
    "\n",
    "We can enable gradient tracking by setting the `requires_grad` attribute to `True`. Lets perform a simple operation:"
   ]
  },
  {
   "cell_type": "code",
   "execution_count": null,
   "id": "618970f0",
   "metadata": {},
   "outputs": [],
   "source": [
    "t = torch.tensor([1.0, 2.0, 3.0], requires_grad=True)\n",
    "out = t.pow(2).sum()\n",
    "out"
   ]
  },
  {
   "cell_type": "markdown",
   "id": "a5aee04d",
   "metadata": {},
   "source": [
    "The grad_fn attribute of the tensor shows the function that created it. In this case, it is a `SumBackward` function, which indicates that the tensor was created by summing two other tensors.\n",
    "\n",
    "Calling `.backward()` on the tensor will compute the gradients of all tensors that have `requires_grad=True` and are part of the computation graph leading to this tensor. The gradients will be stored in the `.grad` attribute of those tensors."
   ]
  },
  {
   "cell_type": "code",
   "execution_count": null,
   "id": "349e1f76",
   "metadata": {},
   "outputs": [],
   "source": [
    "out.backward()\n",
    "t.grad"
   ]
  },
  {
   "cell_type": "markdown",
   "id": "8bf169ab",
   "metadata": {},
   "source": [
    "Indeed, calling `.backward()` on the `out` tensor computes the gradients of `out` with respect to `t`, and stores them in `t.grad`. The gradient (or derivatives) of the sum of squares with respect to each element is `2 * t[i]`, so for `t = [1.0, 2.0, 3.0]`, the gradients will be `[2.0, 4.0, 6.0]`."
   ]
  },
  {
   "cell_type": "markdown",
   "id": "ddbd7613",
   "metadata": {},
   "source": [
    "*Assignment 1: Create a tensor with `requires_grad=True` and perform a sequence of operations on it. Then, call backward() and check the gradient.*"
   ]
  },
  {
   "cell_type": "code",
   "execution_count": null,
   "id": "11b087bd",
   "metadata": {},
   "outputs": [],
   "source": [
    "# Add your own code here"
   ]
  },
  {
   "cell_type": "markdown",
   "id": "e831d8da",
   "metadata": {},
   "source": [
    "More information on tensors can be found in the [PyTorch documentation](https://docs.pytorch.org/docs/stable/tensors.html#initializing-and-basic-operations), including a full list of tensor operations. You can also check the [PyTorch tutorial on tensor basics](https://pytorch.org/tutorials/beginner/basics/tensorqs_tutorial.html) for more examples and explanations."
   ]
  },
  {
   "cell_type": "markdown",
   "id": "7c3146ae",
   "metadata": {},
   "source": [
    "## 1.2 Handling data sets in PyTorch\n"
   ]
  },
  {
   "cell_type": "markdown",
   "id": "c4a5ccfb",
   "metadata": {},
   "source": [
    "### 1.2.1 Exploring the breast cancer dataset\n",
    "\n",
    "The breast cancer dataset is a classic dataset for binary classification tasks. It contains features extracted from images of breast cancer tumors, along with labels indicating whether the tumor is malignant or benign. As the features have already been extracted and processed into a numerical format, the dataset is ideal for a simple neural network classification task.\n",
    "\n",
    "The dataset is available in the [`sklearn.datasets`](https://scikit-learn.org/stable/modules/generated/sklearn.datasets.load_breast_cancer.html) module, and can be loaded using the [`load_breast_cancer()`](https://scikit-learn.org/stable/modules/generated/sklearn.datasets.load_breast_cancer.html#sklearn.datasets.load_breast_cancer) function. "
   ]
  },
  {
   "cell_type": "code",
   "execution_count": null,
   "id": "c6fc48af",
   "metadata": {},
   "outputs": [],
   "source": [
    "import pandas as pd\n",
    "import seaborn as sns\n",
    "\n",
    "from sklearn.datasets import load_breast_cancer"
   ]
  },
  {
   "cell_type": "code",
   "execution_count": null,
   "id": "0fa0a9de",
   "metadata": {},
   "outputs": [],
   "source": [
    "cancer_data = load_breast_cancer(as_frame=True)\n",
    "features = cancer_data['data']\n",
    "targets = cancer_data['target']\n",
    "target_names = cancer_data['target_names']\n",
    "feature_names = cancer_data['feature_names']"
   ]
  },
  {
   "cell_type": "markdown",
   "id": "bc6e707c",
   "metadata": {},
   "source": [
    "Let's check out the target classes:"
   ]
  },
  {
   "cell_type": "code",
   "execution_count": null,
   "id": "53e8a7c8",
   "metadata": {},
   "outputs": [],
   "source": [
    "for i, name in enumerate(target_names):\n",
    "    print(i, name)"
   ]
  },
  {
   "cell_type": "markdown",
   "id": "b9aa60d2",
   "metadata": {},
   "source": [
    "And lets see how many data points we have for each class:"
   ]
  },
  {
   "cell_type": "code",
   "execution_count": null,
   "id": "264610b8",
   "metadata": {},
   "outputs": [],
   "source": [
    "targets.value_counts()"
   ]
  },
  {
   "cell_type": "markdown",
   "id": "4ca3a3e6",
   "metadata": {},
   "source": [
    "*Question: Is the dataset balanced? What does that imply for the training task?*\n",
    "\n",
    "Let's check out the features:"
   ]
  },
  {
   "cell_type": "code",
   "execution_count": null,
   "id": "0caa10f0",
   "metadata": {},
   "outputs": [],
   "source": [
    "features.head()"
   ]
  },
  {
   "cell_type": "markdown",
   "id": "b615243a",
   "metadata": {},
   "source": [
    "And let's visualize some of them:"
   ]
  },
  {
   "cell_type": "code",
   "execution_count": null,
   "id": "bcb7cd4f",
   "metadata": {},
   "outputs": [],
   "source": [
    "data = pd.concat([features, targets.astype(bool).map({False: \"malignant\", True: \"benign\"})], axis=1)\n",
    "\n",
    "sns.pairplot(\n",
    "    data[[\"worst radius\", \"worst texture\", \"worst symmetry\", \"worst fractal dimension\", \"target\"]],\n",
    "    hue=\"target\",\n",
    "    diag_kind='kde',\n",
    "    plot_kws={\"alpha\": 0.2, \"s\": 10},\n",
    ")"
   ]
  },
  {
   "cell_type": "markdown",
   "id": "4fb699cb",
   "metadata": {},
   "source": [
    "We can see that these features show some separation between the two classes, but not all of them are equally useful. For example, \"worst fractal dimension\" is not as informative as \"worst radius\". The neural network will allow us to combine these features in a way that maximizes the separation between the two classes."
   ]
  },
  {
   "cell_type": "markdown",
   "id": "07c9fe88",
   "metadata": {},
   "source": [
    "### 1.2.2 Creating a data set object\n",
    "\n",
    "Data handling for deep learning is a bit different from regular machine learning. In deep learning, we often work with large datasets that are too big to fit into memory all at once. Instead, we load the data in batches, which allows us to train both save memory and speed up the training process. The latter is possible applying gradient descent per batch instead of for the entire dataset at once.\n",
    "\n",
    "PyTorch provides to convenient helper classes for handling data: [`Dataset`](https://pytorch.org/docs/stable/data.html#torch.utils.data.Dataset) and [`DataLoader`](https://pytorch.org/docs/stable/data.html#torch.utils.data.DataLoader). The former is an abstract class that represents a single dataset, while the latter class is used to load data from a dataset in batches."
   ]
  },
  {
   "cell_type": "code",
   "execution_count": null,
   "id": "be670aa3",
   "metadata": {},
   "outputs": [],
   "source": [
    "from torch.utils.data import Dataset"
   ]
  },
  {
   "cell_type": "markdown",
   "id": "8e1e7d90",
   "metadata": {},
   "source": [
    "As we already loaded the data into a Pandas DataFrame, the initialization of the dataset is straightforward. We just need to convert the DataFrame into a PyTorch tensor with the correct data types. The `__getitem__` method is used to retrieve a single sample from the dataset, while the `__len__` method returns the total number of samples in the dataset."
   ]
  },
  {
   "cell_type": "code",
   "execution_count": null,
   "id": "bb68dd25",
   "metadata": {},
   "outputs": [],
   "source": [
    "class CancerDataset(Dataset):\n",
    "    def __init__(self, features: pd.DataFrame, targets: pd.Series):\n",
    "        self.features = torch.tensor(features.values, dtype=torch.float32)\n",
    "        self.targets = torch.tensor(targets.values, dtype=torch.float32)\n",
    "\n",
    "    def __len__(self):\n",
    "        return len(self.features)\n",
    "\n",
    "    def __getitem__(self, idx):\n",
    "        x = self.features[idx]\n",
    "        y = self.targets[idx]\n",
    "        return x, y\n",
    "\n",
    "cancer_dataset = CancerDataset(features, targets)"
   ]
  },
  {
   "cell_type": "markdown",
   "id": "a9d14115",
   "metadata": {},
   "source": [
    "Now the dataset can be accessed by index, just like a list. Each item is a tuple containing the features and targets as tensors.\n",
    "\n",
    "*Assignment: Try to access the first 10 samples of the dataset. What do you see?*"
   ]
  },
  {
   "cell_type": "code",
   "execution_count": null,
   "id": "42e1eda3",
   "metadata": {},
   "outputs": [],
   "source": [
    "# Add your own code here"
   ]
  },
  {
   "cell_type": "markdown",
   "id": "90d309a0",
   "metadata": {},
   "source": [
    "Learn more about Datasets on the [PyTorch documentation](https://pytorch.org/docs/stable/data.html)."
   ]
  },
  {
   "cell_type": "markdown",
   "id": "21a90a97",
   "metadata": {},
   "source": [
    "### 1.2.3 Creating a data loader\n",
    "\n",
    "PyTorch provides a convenient way to load data in batches using the [`DataLoader`](https://pytorch.org/docs/stable/data.html#torch.utils.data.DataLoader) class. It takes a `Dataset` object and provides an iterable over the dataset, allowing you to easily iterate over the data in batches. Training data can be immediately shuffled by the `DataLoader`, which is useful for training models. The `DataLoader` class also provides options for parallel data loading, which can speed up the training process if data parsing is computationally expensive."
   ]
  },
  {
   "cell_type": "code",
   "execution_count": null,
   "id": "fd7a48af",
   "metadata": {},
   "outputs": [],
   "source": [
    "from torch.utils.data import DataLoader\n",
    "cancer_dataloader = DataLoader(cancer_dataset, batch_size=32, shuffle=True)"
   ]
  },
  {
   "cell_type": "markdown",
   "id": "bc0795a8",
   "metadata": {},
   "source": [
    "To test the dataloader, we can iterate over the data. Each iteration yields a batch of data, which is a tuple containing the features and labels."
   ]
  },
  {
   "cell_type": "code",
   "execution_count": null,
   "id": "5d88c691",
   "metadata": {},
   "outputs": [],
   "source": [
    "for batch_x, batch_y in cancer_dataloader:\n",
    "    print(batch_x.shape, batch_y.shape)\n",
    "    break"
   ]
  },
  {
   "cell_type": "markdown",
   "id": "8967700a",
   "metadata": {},
   "source": [
    "Learn more about `DataLoader` on the [PyTorch documentation](https://pytorch.org/docs/stable/data.html#torch.utils.data.DataLoader) and check out the [PyTorch tutorial on data loading and processing](https://pytorch.org/tutorials/beginner/data_loading_tutorial.html).\n",
    "\n",
    "*Question: Go to the documentation and look up the difference between an iterable and map-style dataset. When would you use one over the other? What are the advantages and disadvantages of each?*"
   ]
  },
  {
   "cell_type": "markdown",
   "id": "dfa9a79a",
   "metadata": {},
   "source": [
    "## 1.3 Building a simple linear classifier\n",
    "\n",
    "### 1.3.1 Creating a Pytorch model object to define the model architecture\n",
    "\n",
    "The [`nn.Module`](https://pytorch.org/docs/stable/generated/torch.nn.Module.html#torch.nn.Module) class is the base class for all neural network modules in PyTorch. It provides a convenient way to define and manage the architecture and all parameters of your model, as well as to define the forward pass of your model.\n",
    "The `__init__` method is where you define the layers of your model. In this case, we are using a single linear layer with 30 input features and 2 output features. The `forward` method defines the forward pass of your model, which takes in the input data and passes it through the layers defined in the `__init__` method.\n",
    "\n",
    "A `backward` method is not needed, as PyTorch automatically computes the gradients for you when you call `.backward()` on the output of your model. The backward steps are inferred using the computation graph."
   ]
  },
  {
   "cell_type": "code",
   "execution_count": null,
   "id": "fcfa1d7f",
   "metadata": {},
   "outputs": [],
   "source": [
    "from torch import nn\n",
    "\n",
    "class BreastCancerClassifier(nn.Module):\n",
    "    def __init__(self):\n",
    "        super().__init__()\n",
    "        self.layer1 = nn.Linear(30, 1)\n",
    "\n",
    "    def forward(self, x):\n",
    "        x = self.layer1(x)\n",
    "        return x"
   ]
  },
  {
   "cell_type": "markdown",
   "id": "af4dfcd0",
   "metadata": {},
   "source": [
    "*Question: What are the numbers 30 and 1 in the [`nn.Linear`](https://pytorch.org/docs/stable/generated/torch.nn.Linear.html#torch.nn.Linear) constructor? Why were they chosen?*"
   ]
  },
  {
   "cell_type": "code",
   "execution_count": null,
   "id": "f7f048c8",
   "metadata": {},
   "outputs": [],
   "source": [
    "model = BreastCancerClassifier()\n",
    "model.forward(batch_x).shape"
   ]
  },
  {
   "cell_type": "markdown",
   "id": "07255e30",
   "metadata": {},
   "source": [
    "### 1.3.2 The loss function\n",
    "\n",
    "The loss function is simply a measure of how well the model is performing. PyTorch provides a variety of loss functions in the [`torch.nn`](https://pytorch.org/docs/stable/nn.html#loss-functions) module, including mean squared error (MSE), cross-entropy loss, and binary cross-entropy loss. The choice of loss function depends on the type of problem you are trying to solve. For example, if you are working on a regression problem, you would typically use MSE, while for a classification problem, you would use cross-entropy loss.\n",
    "\n",
    "In this case, we are using binary cross-entropy loss. Its values are between 0 and 1, where 0 means the model is perfect and 1 means the model is completely wrong. The closer the value is to 0, the better the model is performing. The following blog post provides a great visual explanation of the binary cross-entropy loss function: [Understanding binary cross-entropy / log loss: a visual explanation | Towards Data Science](https://towardsdatascience.com/understanding-binary-cross-entropy-log-loss-a-visual-explanation-a3ac6025181a)."
   ]
  },
  {
   "cell_type": "code",
   "execution_count": null,
   "id": "cd859c1a",
   "metadata": {},
   "outputs": [],
   "source": [
    "loss_function = nn.BCEWithLogitsLoss()"
   ]
  },
  {
   "cell_type": "markdown",
   "id": "461b2a81",
   "metadata": {},
   "source": [
    "We can also calculate the ROC-AUC score on the entire validation set using the [`roc_auc_score`](https://scikit-learn.org/stable/modules/generated/sklearn.metrics.roc_auc_score.html#sklearn.metrics.roc_auc_score) function from `sklearn.metrics`."
   ]
  },
  {
   "cell_type": "code",
   "execution_count": null,
   "id": "d8c33371",
   "metadata": {},
   "outputs": [],
   "source": [
    "from sklearn.metrics import roc_auc_score"
   ]
  },
  {
   "cell_type": "markdown",
   "id": "e7dc2946",
   "metadata": {},
   "source": [
    "### 1.3.3 The optimizer\n",
    "\n",
    "The optimizer is the algorithm that adjusts the parameters of a model to minimize the loss function. It takes the gradients computed during the backward pass and \n",
    "determines how to use them to update the model parameters. The most important hyperparameter for the optimizer is the learning rate, which controls how much to adjust the parameters at each step. A smaller learning rate means smaller updates, while a larger learning rate means larger updates. \n",
    "\n",
    "In PyTorch, optimizers are implemented as classes in the [`torch.optim`](https://pytorch.org/docs/stable/optim.html#algorithms) module. The most common optimizer is *stochastic gradient descent (SGD)*, but there are many other optimizers available, such as Adam, RMSprop, and Adagrad. Each has its own advantages and disadvantages, and the choice of optimizer can have a significant impact on the performance of your model.\n",
    "\n",
    "When setting up the optimizer, you need to pass in the parameters of your model that you want to optimize. In this case, we are passing in the parameters of the `model` object. The optimizer will then update these parameters during training."
   ]
  },
  {
   "cell_type": "code",
   "execution_count": null,
   "id": "3fe84608",
   "metadata": {},
   "outputs": [],
   "source": [
    "optimizer = torch.optim.Adam(model.parameters(), lr=0.0001)"
   ]
  },
  {
   "cell_type": "markdown",
   "id": "a64c5431",
   "metadata": {},
   "source": [
    "### 1.3.4 The training loop\n",
    "The training loop is the core of the training process. It goes through the following steps:\n",
    "\n",
    "1. Get a batch of data from the `DataLoader`.\n",
    "2. Zero the gradients of the model parameters using `optimizer.zero_grad()`. Otherwise, the gradients would accumulate over multiple iterations, which is not what we want.\n",
    "3. Perform a forward pass through the model to get its current predictions.\n",
    "4. Compute the loss.\n",
    "5. Perform a backward pass to compute the gradients.\n",
    "6. Update the model parameters using the optimizer.\n",
    "\n",
    "Here, we implement a single training step:"
   ]
  },
  {
   "cell_type": "code",
   "execution_count": null,
   "id": "8a4945a0",
   "metadata": {},
   "outputs": [],
   "source": [
    "for batch_x, batch_y in cancer_dataloader:                  # 1. Get a batch of data\n",
    "    optimizer.zero_grad()                                   # 2. Reset gradients\n",
    "    y_pred = model(batch_x)                                 # 3. Forward pass\n",
    "    loss_value = loss_function(y_pred.squeeze(), batch_y)   # 4. Compute loss\n",
    "    loss_value.backward()                                   # 5. Backward pass, based on the loss\n",
    "    optimizer.step()                                        # 6. Update weights\n",
    "\n",
    "    break  # For demonstration, we only do one batch\n",
    "\n",
    "print(f\"{loss_value.item():.4f}\")"
   ]
  },
  {
   "cell_type": "markdown",
   "id": "b5457083",
   "metadata": {},
   "source": [
    "*Note: [`squeeze()`](https://pytorch.org/docs/stable/generated/torch.squeeze.html#torch-squeeze) is used to remove the extra dimension from the output of the model. The model outputs a tensor of shape `(batch_size, 1)`, but we want it to be of shape `(batch_size,)` for the loss function.*\n",
    "\n",
    "### 1.3.3 Training a model\n",
    "\n",
    "Of course, we want to train the model for multiple *epochs*. An epoch is a complete pass through the training data. In each epoch, we will go through all the batches of data in the `DataLoader` and perform the training steps described above. Additionally, we want to see how the model is performing on the *validation set*. To do this, we will perform a single forward step with the current model on a validation dataset and compute the loss after each epoch.\n",
    "\n",
    "*Question: What is the difference between a validation set and a test set? Why do we need both? When do you use one over the other?*\n",
    "\n",
    "To split our data into a training and validation set, we can use the [`random_split`](https://pytorch.org/docs/stable/data.html#torch.utils.data.random_split) function."
   ]
  },
  {
   "cell_type": "code",
   "execution_count": null,
   "id": "d4f5ef92",
   "metadata": {},
   "outputs": [],
   "source": [
    "data_train, data_validation = torch.utils.data.random_split(cancer_dataset, [0.8, 0.2])\n",
    "\n",
    "dataloader_train = DataLoader(data_train, batch_size=32, shuffle=True)\n",
    "dataloader_validation = DataLoader(data_validation, batch_size=32, shuffle=False)"
   ]
  },
  {
   "cell_type": "markdown",
   "id": "b0f2dc78",
   "metadata": {},
   "source": [
    "Complete the code below to train the model. Add the train step and validation step to the training loop. Take into account that not all points from the training step are needed in the validation step."
   ]
  },
  {
   "cell_type": "code",
   "execution_count": null,
   "id": "949985cb",
   "metadata": {},
   "outputs": [],
   "source": [
    "model = BreastCancerClassifier()\n",
    "optimizer = torch.optim.Adam(model.parameters(), lr=0.001)\n",
    "loss_function = nn.BCEWithLogitsLoss()\n",
    "\n",
    "# We will train the model for 100 epochs\n",
    "n_epochs = 10\n",
    "train_losses = []\n",
    "validation_losses = []\n",
    "\n",
    "for epoch in range(1, n_epochs + 1):\n",
    "    # Train the model\n",
    "    model.train()\n",
    "    epoch_loss_train = 0  # Accumulate the loss for this epoch\n",
    "    for batch_x, batch_y in dataloader_train:\n",
    "        # Add your code here for a single training step. Make sure the loss is placed in\n",
    "        # the loss_value variable.\n",
    "        # ---\n",
    "\n",
    "\n",
    "        # ---\n",
    "        epoch_loss_train += loss_value.item()\n",
    "\n",
    "    avg_epoch_loss_train = epoch_loss_train / len(dataloader_train)  # Average loss for the epoch\n",
    "    train_losses.append(avg_epoch_loss_train)\n",
    "\n",
    "    # Evaluate the model\n",
    "    model.eval()\n",
    "    epoch_loss_validation = 0\n",
    "    with torch.no_grad():\n",
    "        for batch_x, batch_y in dataloader_validation:\n",
    "            # Add your code here for a single validation step. Make sure the loss is placed in\n",
    "            # the loss_value variable.\n",
    "            # ---\n",
    "\n",
    "\n",
    "            # ---\n",
    "            epoch_loss_validation += loss_value.item()\n",
    "\n",
    "    avg_epoch_loss_validation = epoch_loss_validation / len(dataloader_validation)\n",
    "    validation_losses.append(avg_epoch_loss_validation)\n",
    "\n",
    "    print(f\"Epoch {epoch}: Train Loss: {avg_epoch_loss_train:.4f}, Validation Loss: {avg_epoch_loss_validation:.4f}\")\n",
    "\n",
    "# Calculate the AUC score on the full validation set\n",
    "x = data_validation[:][0]\n",
    "y = data_validation[:][1]\n",
    "y_pred = model(x)\n",
    "print(f\"ROC-AUC score: {roc_auc_score(y.numpy(), y_pred.detach().numpy()):.4f}\")\n",
    "\n",
    "# Plot the learning curves\n",
    "pd.DataFrame({\n",
    "    \"Train Loss\": train_losses,\n",
    "    \"Validation Loss\": validation_losses,\n",
    "}).plot(title=\"Losses\", xlabel=\"Epoch\", ylabel=\"Loss\")"
   ]
  },
  {
   "cell_type": "markdown",
   "id": "efccb473",
   "metadata": {},
   "source": [
    "If everything is working correctly, you should see the train loss decreasing over time. The model should also be able to predict the labels of the validation set with a some accuracy."
   ]
  },
  {
   "cell_type": "markdown",
   "id": "ac1b5214",
   "metadata": {},
   "source": [
    "## 1.4 Building a linear deep neural network\n",
    "\n",
    "So far, we have built a simple linear classifier. However, in practice, we often want to build more complex models that can learn more intricate patterns in the data. This means that we will add multiple layers to our model, making it a *deep neural network* (or in this case, rather a *shallow* neural network).\n",
    "\n",
    "### 1.4.1 Activation functions\n",
    "\n",
    "For the breast cancer dataset, we will build a model with three hidden layers, each with a decreasing number of neurons. In between each layer, we will add an activation function. The activation function is a non-linear function that is applied to the output of each neuron in the layer. It introduces non-linearity into the model, allowing it to learn more complex patterns in the data. The most common activation functions are **ReLU (Rectified Linear Unit)**, **sigmoid**, and **tanh**. ReLU is the most commonly used activation function in deep learning, as it is computationally efficient and helps to mitigate the vanishing gradient problem. The sigmoid function is often used in the output layer for binary classification problems, as it outputs a value between 0 and 1, which can be interpreted as a probability. The tanh function is similar to the sigmoid function, but it outputs values between -1 and 1.\n",
    "\n",
    "PyTorch provides activations functions as part of the [`torch.nn`](https://pytorch.org/docs/stable/nn.html#torch-nn) module. The most common activation functions are implemented as classes, and can be used as layers in the model. For example, to use the ReLU activation function, you can simply add [`nn.ReLU()`](https://pytorch.org/docs/stable/generated/torch.nn.ReLU.html#torch.nn.ReLU) to your model.\n",
    "\n",
    "### 1.4.2 Extending the model architecture\n",
    "\n",
    "*Assignment: Modify the `BreastCancerClassifier` class to include three hidden layers, each with a decreasing number of neurons (30, 15, 1). Use the ReLU activation function between each layer. The final output layer should have 1 neuron and use the sigmoid activation function.*"
   ]
  },
  {
   "cell_type": "code",
   "execution_count": null,
   "id": "8d10a6dd",
   "metadata": {},
   "outputs": [],
   "source": [
    "class BreastCancerClassifier(nn.Module):\n",
    "    def __init__(self):\n",
    "        super().__init__()\n",
    "        # Add your code here\n",
    "        # ---\n",
    "\n",
    "\n",
    "        # ---\n",
    "\n",
    "    def forward(self, x):\n",
    "        # Add your code here\n",
    "        # ---\n",
    "\n",
    "\n",
    "        # ---\n",
    "        return x"
   ]
  },
  {
   "cell_type": "markdown",
   "id": "cbe3b9e5",
   "metadata": {},
   "source": [
    "### 1.4.3 Training the model\n",
    "\n",
    "*Assignment: Now repeat the training process by reusing your code from 1.3.3. How does the model perform? Is it better than the previous model?*"
   ]
  },
  {
   "cell_type": "code",
   "execution_count": null,
   "id": "6f598a9e",
   "metadata": {},
   "outputs": [],
   "source": [
    "# Add your own code here\n"
   ]
  }
 ],
 "metadata": {
  "kernelspec": {
   "display_name": ".venv",
   "language": "python",
   "name": "python3"
  },
  "language_info": {
   "codemirror_mode": {
    "name": "ipython",
    "version": 3
   },
   "file_extension": ".py",
   "mimetype": "text/x-python",
   "name": "python",
   "nbconvert_exporter": "python",
   "pygments_lexer": "ipython3",
   "version": "3.12.9"
  }
 },
 "nbformat": 4,
 "nbformat_minor": 5
}
